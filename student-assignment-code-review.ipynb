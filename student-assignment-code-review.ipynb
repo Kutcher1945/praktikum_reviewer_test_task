{
 "metadata": {
  "kernelspec": {
   "name": "python",
   "display_name": "Python (Pyodide)",
   "language": "python"
  },
  "language_info": {
   "codemirror_mode": {
    "name": "python",
    "version": 3
   },
   "file_extension": ".py",
   "mimetype": "text/x-python",
   "name": "python",
   "nbconvert_exporter": "python",
   "pygments_lexer": "ipython3",
   "version": "3.8"
  },
  "toc": {
   "base_numbering": 1,
   "nav_menu": {},
   "number_sections": true,
   "sideBar": true,
   "skip_h1_title": true,
   "title_cell": "Table of Contents",
   "title_sidebar": "Contents",
   "toc_cell": false,
   "toc_position": {},
   "toc_section_display": true,
   "toc_window_display": false
  }
 },
 "nbformat_minor": 4,
 "nbformat": 4,
 "cells": [
  {
   "cell_type": "markdown",
   "source": [
    "<div style=\"border:solid green 2px; padding: 20px\">\n",
    "<b>Hello, Student!</b>\n",
    "\n",
    "Adilan from Yandex Prakticum is here, I've reviewed some of your previous projects. I hope, you didn't tired of me :)\n",
    "\n",
    "As usual, you can find my comments in <font color='green'>green</font>, <font color='blue'>blue</font> or <font color='orange'>orange</font> boxes like this:\n",
    "\n",
    "<div class=\"alert alert-success\">\n",
    "<b>Reviewer's comment:</b> if everything is done succesfully\n",
    "</div>\n",
    "\n",
    "<div class=\"alert alert-warning\">\n",
    "<b>Reviewer's comment: </b> if I can give some recommendations\n",
    "</div>\n",
    "\n",
    "<div class=\"alert alert-danger\">\n",
    "<b>Reviewer's comment:</b> if the block requires some corrections. Work can't be accepted with the red comments.\n",
    "</div>\n",
    "\n",
    "\n",
    "Let's work on the project in dialogue: if you change something in the project or respond to my comments, write about it. It will be easier for me to track the changes if you highlight your comments:\n",
    "\n",
    "<div class=\"alert alert-info\"> <b>Student's comment:</b> For example like this.</div>"
   ],
   "metadata": {}
  },
  {
   "cell_type": "markdown",
   "source": [
    "### <font color='orange'>General feedback</font>\n",
    "Thank you for sending your project.  It's clear that a lot of work has been put into it. I liked your coding style, but please, pay attention to the conclusions, and code quality.\n",
    "\n",
    "**Update**:<br>\n",
    "Thank you for the update, good job! Your project has been accepted."
   ],
   "metadata": {}
  },
  {
   "cell_type": "markdown",
   "source": [
    "<div class=\"alert alert-warning\">\n",
    "<b>Reviewer's comment: </b> Additional links:\n",
    "    <ul>\n",
    "        <li>Python RoadMap to understand a syntax and to write a better code: <a>https://roadmap.sh/python</a></li>\n",
    "        <li>Cash calculator example<a>https://github.com/DmtrCher/Calculators/blob/master/Calculators.py</a></li>\n",
    "        <li>How to use datetime<a>https://docs.python.org/3/library/datetime.html</a></li>\n",
    "    </ul>\n",
    "</div>"
   ],
   "metadata": {}
  },
  {
   "cell_type": "markdown",
   "source": [
    "## TITLE: STUDENT ASSIGNMENT CODE REVIEW"
   ],
   "metadata": {}
  },
  {
   "cell_type": "markdown",
   "source": [
    "#### Goal: Calculate the amount of cash and then display appropriate message.\n",
    "#### Plan:\n",
    "<li>Mistake 1 — Extra parentheses in code can be removed for improved readability.</li>\n",
    "\n",
    "<li>Mistake 2 — Unnecessary \"elif\" after \"return\", remove the leading \"el\" from \"elif\".</li>\n",
    "\n",
    "<li>Mistake 3 — Formatting a regular string which could be a f-string.</li>\n",
    "\n",
    "<li>Mistake 4 — Either all return statements in a function should return an expression, or none of them should.</li>\n",
    "\n",
    "<li>Mistake 5 — Statement seems to have no effect.</li>\n",
    "\n",
    "<li>Mistake 6 — Useless super delegation in method 'get_week_stats'.</li>\n",
    "\n",
    "<li>Mistake 7 — Redefining name 'Record' from outer scope.</li>"
   ],
   "metadata": {}
  },
  {
   "cell_type": "markdown",
   "source": [
    "<div class=\"alert alert-success\">\n",
    "<b>Reviewer's comment: </b> I have preppared review on mistakes that you had when developing a program. And here I'll try to support you and explain everything according to problems that you faced and didn't realize that you had a mistakes. It's okay to have mistakes, don't worry, it's really normal for people, beacuse when you are making mistakes you are learning something new. Good luck and have fun with my review  :)\n",
    "</div>"
   ],
   "metadata": {}
  },
  {
   "cell_type": "markdown",
   "source": [
    "<div class=\"alert alert-success\">\n",
    "<b>LET'S GO ;)\n",
    "</div>"
   ],
   "metadata": {}
  },
  {
   "cell_type": "markdown",
   "source": [
    "### Mistake №1. Extra parentheses in code can be removed for improved readability."
   ],
   "metadata": {}
  },
  {
   "cell_type": "code",
   "source": [
    "        return f'Сегодня можно съесть что-нибудь' \\\n",
    "                f' ещё, но с общей калорийностью не более {x} кКал'\n",
    "    else:\n",
    "        return('Хватит есть!')"
   ],
   "metadata": {},
   "execution_count": null,
   "outputs": []
  },
  {
   "cell_type": "markdown",
   "source": [
    "<div class=\"alert alert-warning\">\n",
    "<b>Reviewer's comment: </b>\n",
    "<li>Extra parentheses in code can be removed for improved readability.\n",
    "    In the examples below, the first example is more readable than the second one.<a></a></li>\n",
    "<li>Preferred:<a></a></li>\n",
    "</div>"
   ],
   "metadata": {}
  },
  {
   "cell_type": "code",
   "source": [
    "if len(some_variable) + 1 < 1:\n",
    "    ..."
   ],
   "metadata": {},
   "execution_count": null,
   "outputs": []
  },
  {
   "cell_type": "markdown",
   "source": [
    "<div class=\"alert alert-warning\">\n",
    "<b>Not preferred:</b>"
   ],
   "metadata": {}
  },
  {
   "cell_type": "code",
   "source": [
    "if (len(some_variable) + 1) < 1:\n",
    "    ..."
   ],
   "metadata": {},
   "execution_count": null,
   "outputs": []
  },
  {
   "cell_type": "markdown",
   "source": [
    "<div class=\"alert alert-info\"> <b></b> Extra parentheses in code can be removed for improved readability. As I recomended, try to use the preferred example, and you will be good to go :).</div>"
   ],
   "metadata": {}
  },
  {
   "cell_type": "markdown",
   "source": [
    "### Mistake №2. Unnecessary \"elif\" after \"return\", remove the leading \"el\" from \"elif\""
   ],
   "metadata": {}
  },
  {
   "cell_type": "code",
   "source": [
    "elif currency_type == 'rub':\n",
    "    cash_remained == 1.00\n",
    "    currency_type = 'руб'\n",
    "if cash_remained > 0:\n",
    "    return (\n",
    "       f'На сегодня осталось {round(cash_remained, 2)} '\n",
    "       f'{currency_type}'"
   ],
   "metadata": {},
   "execution_count": null,
   "outputs": []
  },
  {
   "cell_type": "markdown",
   "source": [
    "<div class=\"alert alert-warning\">\n",
    "<b>Reviewer's comment: </b>\n",
    "<li>Unnecessary \"elif\" after \"return\", remove the leading \"el\" from \"elif\"<a></a></li>\n",
    "</div>"
   ],
   "metadata": {}
  },
  {
   "cell_type": "code",
   "source": [
    "class CaloriesCalculator(Calculator):\n",
    "     def get_calories_remained(self):  # Получает остаток калорий на сегодня\n",
    "         x = self.limit - self.get_today_stats()\n",
    "         if x > 0:\n",
    "             return f'Сегодня можно съесть что-нибудь' \\\n",
    "                    f' ещё, но с общей калорийностью не более {x} кКал'\n",
    "         else:"
   ],
   "metadata": {},
   "execution_count": null,
   "outputs": []
  },
  {
   "cell_type": "markdown",
   "source": [
    "<div class=\"alert alert-warning\">\n",
    "<b>Reviewer's comment: </b>\n",
    "<li>Unnecessary \"else\" after \"return\", remove the \"else\" and de-indent the code inside it<a></a></li>\n",
    "</div>"
   ],
   "metadata": {}
  },
  {
   "cell_type": "markdown",
   "source": [
    "<div class=\"alert alert-warning\">\n",
    "<b>Reviewer's comment: </b>\n",
    "<li>The use of else or elif becomes redundant and can be dropped if the last statement under the leading if / elif block is a return statement. In the case of an elif after return, it can be written as a separate if block. For else blocks after return, the statements can be shifted out of else. Please refer to the examples below for reference.<a></a></li>\n",
    "<li>Refactoring the code this way can improve code-readability and make it easier to maintain.<a></a></li>\n",
    "<br><a></a>\n",
    "</div>"
   ],
   "metadata": {}
  },
  {
   "cell_type": "markdown",
   "source": [
    "<div class=\"alert alert-warning\">\n",
    "<b>Reviewer's comment: </b>\n",
    "<li>Examples:<a></a></li>\n",
    "<b>Bad practice</b>\n",
    "<li>Some less preferred ways:<a></a></li>"
   ],
   "metadata": {}
  },
  {
   "cell_type": "code",
   "source": [
    "def classify_number(x):\n",
    "    if x % 2 == 0:\n",
    "        return 'Even'\n",
    "    else:\n",
    "        return 'Odd'\n",
    "\n",
    "\n",
    "def what_is_this_number(x):\n",
    "    if x % 2 == 0 and x >= 0:\n",
    "        return 'Even'\n",
    "    elif x % 2 == 0 and x < 0:\n",
    "        return 'Even and Negative'\n",
    "    elif x % 2 != 0 and x < 0:\n",
    "        return 'Odd and Negative.'\n",
    "    else:\n",
    "        return 'Odd'"
   ],
   "metadata": {},
   "execution_count": null,
   "outputs": []
  },
  {
   "cell_type": "markdown",
   "source": [
    "<div class=\"alert alert-warning\">\n",
    "<b>Reviewer's comment: </b>\n",
    "<li>Examples:<a></a></li>\n",
    "<b>Preferred:</b>"
   ],
   "metadata": {}
  },
  {
   "cell_type": "code",
   "source": [
    "def classify_number(x):\n",
    "    if x % 2 == 0:\n",
    "        return 'Even'\n",
    "\n",
    "    return 'Odd'\n",
    "\n",
    "\n",
    "def what_is_this_number(x):\n",
    "    if x % 2 == 0 and x >= 0:\n",
    "        return 'Even'\n",
    "\n",
    "    if x % 2 == 0 and x < 0:\n",
    "        return 'Even and Negative'\n",
    "\n",
    "    if x % 2 != 0 and x < 0:\n",
    "        return 'Odd and Negative'\n",
    "\n",
    "    return 'Odd'"
   ],
   "metadata": {},
   "execution_count": null,
   "outputs": []
  },
  {
   "cell_type": "markdown",
   "source": [
    "<div class=\"alert alert-info\"> <b></b> The use of else or elif becomes redundant and can be dropped if the last statement under the leading if / elif block is a return statement. As I recomended, try to use one of the preferred examples and you will be good to go :).</div>"
   ],
   "metadata": {}
  },
  {
   "cell_type": "markdown",
   "source": [
    "<div class=\"alert alert-success\">\n",
    "<b>Reviewer's comment v2: </b> You are always welcome :)\n",
    "</div>"
   ],
   "metadata": {}
  },
  {
   "cell_type": "markdown",
   "source": [
    "### Mistake №3. Formatting a regular string which could be a f-string"
   ],
   "metadata": {}
  },
  {
   "cell_type": "code",
   "source": [
    "elif cash_remained == 0:\n",
    "    return 'Денег нет, держись'\n",
    "elif cash_remained < 0:\n",
    "    return 'Денег нет, держись:' \\\n",
    "            ' твой долг - {0:.2f} {1}'.format(-cash_remained,                                                   currency_type)"
   ],
   "metadata": {},
   "execution_count": null,
   "outputs": []
  },
  {
   "cell_type": "markdown",
   "source": [
    "<div class=\"alert alert-warning\">\n",
    "<b>Reviewer's comment: </b> Formatting a regular string which could be a f-string :)\n",
    "</div>"
   ],
   "metadata": {}
  },
  {
   "cell_type": "markdown",
   "source": [
    "<div class=\"alert alert-warning\">\n",
    "<b>Reviewer's comment: </b>\n",
    "<li>f-strings are the fastest way to format strings as compared to the following methods:<a></a></li>\n",
    "<li>1. using format specifiers %<a></a></li>\n",
    "<li>2. using format(),<a></a></li>\n",
    "<li>3. using str.join,<a></a></li>\n",
    "<li>4. using + operator to concatinate string,<a></a></li>\n",
    "<li>5. using Template.substitute<a></a></li>\n",
    "<br><a></a>\n",
    "</div>"
   ],
   "metadata": {}
  },
  {
   "cell_type": "markdown",
   "source": [
    "<div class=\"alert alert-warning\">\n",
    "<b>Reviewer's comment: </b>\n",
    "<li>Examples:<a></a></li>\n",
    "<b>Bad practice</b>\n",
    "<li>Some less preferred ways to format strings are the following:<a></a></li>"
   ],
   "metadata": {}
  },
  {
   "cell_type": "code",
   "source": [
    "from string import Template\n",
    "\n",
    "menu = ('eggs', 'spam', 42.4)\n",
    "\n",
    "old_order = \"%s and %s: %.2f ¤\" % menu # [consider-using-f-string]\n",
    "beginner_order = menu[0] + \" and \" + menu[1] + \": \" + str(menu[2]) + \" ¤\"\n",
    "joined_order = \" and \".join(menu[:2])\n",
    "format_order = \"{} and {}: {:0.2f} ¤\".format(menu[0], menu[1], menu[2])\n",
    "named_format_order = \"{eggs} and {spam}: {price:0.2f} ¤\".format(eggs=menu[0], spam=menu[1], price=menu[2])\n",
    "template_order = Template('$eggs and $spam: $price ¤').substitute(eggs=menu[0], spam=menu[1], price=menu[2])"
   ],
   "metadata": {},
   "execution_count": null,
   "outputs": []
  },
  {
   "cell_type": "markdown",
   "source": [
    "<div class=\"alert alert-warning\">\n",
    "<b>Reviewer's comment: </b>\n",
    "<li>Examples:<a></a></li>\n",
    "<b>Recommended</b>\n",
    "<li>Consider using f-strings as shown below:<a></a></li>"
   ],
   "metadata": {}
  },
  {
   "cell_type": "code",
   "source": [
    "menu = ('eggs', 'spam', 42.4)\n",
    "\n",
    "f_string_order = f\"{menu[0]} and {menu[1]}: {menu[2]:0.2f}\""
   ],
   "metadata": {},
   "execution_count": null,
   "outputs": []
  },
  {
   "cell_type": "markdown",
   "source": [
    "<div class=\"alert alert-info\"> <b></b> f-strings are the fastest way to format strings. As I recomended, try to use one of them and you will be good to go :).</div>"
   ],
   "metadata": {}
  },
  {
   "cell_type": "markdown",
   "source": [
    "<div class=\"alert alert-success\">\n",
    "<b>Reviewer's comment v2: </b> You are always welcome :)\n",
    "</div>"
   ],
   "metadata": {}
  },
  {
   "cell_type": "markdown",
   "source": [
    "### Mistake №4. Either all return statements in a function should return an expression, or none of them should."
   ],
   "metadata": {}
  },
  {
   "cell_type": "code",
   "source": [
    "def get_today_cash_remained(self, currency,\n",
    "                                 USD_RATE=USD_RATE, EURO_RATE=EURO_RATE):\n",
    "         currency_type = currency\n",
    "         cash_remained = self.limit - self.get_today_stats()"
   ],
   "metadata": {},
   "execution_count": 6,
   "outputs": []
  },
  {
   "cell_type": "markdown",
   "source": [
    "<div class=\"alert alert-warning\">\n",
    "<b>Reviewer's comment: </b>\n",
    "<li>Either all return statements in a function should return an expression, or none of them should.<a></a></li>\n",
    "</div>"
   ],
   "metadata": {}
  },
  {
   "cell_type": "markdown",
   "source": [
    "<div class=\"alert alert-warning\">\n",
    "<b>Reviewer's comment: </b>\n",
    "<li>According to PEP8, if any return statement returns an expression, any return statements where no value is returned should explicitly state this as return None, and an explicit return statement should be present at the end of the function (if reachable).<a></a></li>\n",
    "</div>"
   ],
   "metadata": {}
  },
  {
   "cell_type": "markdown",
   "source": [
    "<div class=\"alert alert-warning\">\n",
    "<b>Reviewer's comment: </b>\n",
    "<li>Good Example<a></a></li>\n",
    "</div>"
   ],
   "metadata": {}
  },
  {
   "cell_type": "code",
   "source": [
    "def foo(x):\n",
    "    if x >= 0:\n",
    "        return math.sqrt(x)\n",
    "    else:\n",
    "        return None\n",
    "\n",
    "def bar(x):\n",
    "    if x < 0:\n",
    "        return None\n",
    "    return math.sqrt(x)"
   ],
   "metadata": {},
   "execution_count": null,
   "outputs": []
  },
  {
   "cell_type": "markdown",
   "source": [
    "<div class=\"alert alert-warning\">\n",
    "<b>Reviewer's comment: </b>\n",
    "<li>Bad Example<a></a></li>\n",
    "</div>"
   ],
   "metadata": {}
  },
  {
   "cell_type": "code",
   "source": [
    "def foo(x):\n",
    "    if x >= 0:\n",
    "        return math.sqrt(x)\n",
    "\n",
    "def bar(x):\n",
    "    if x < 0:\n",
    "        return\n",
    "    return math.sqrt(x)"
   ],
   "metadata": {},
   "execution_count": null,
   "outputs": []
  },
  {
   "cell_type": "markdown",
   "source": [
    "<div class=\"alert alert-info\"> <b></b> Either all return statements in a function should return an expression, or none of them should. As I recomended, try to use good example and you will be good to go :).</div>"
   ],
   "metadata": {}
  },
  {
   "cell_type": "markdown",
   "source": [
    "<div class=\"alert alert-success\">\n",
    "<b>Reviewer's comment v2: </b> You are always welcome :)\n",
    "</div>"
   ],
   "metadata": {}
  },
  {
   "cell_type": "markdown",
   "source": [
    "### Mistake №5. Statement seems to have no effect"
   ],
   "metadata": {}
  },
  {
   "cell_type": "code",
   "source": [
    "cash_remained /= EURO_RATE\n",
    "            currency_type = 'Euro'\n",
    "        elif currency_type == 'rub':\n",
    "            cash_remained == 1.00\n",
    "            currency_type = 'руб'\n",
    "        if cash_remained > 0:\n",
    "            return ("
   ],
   "metadata": {},
   "execution_count": null,
   "outputs": []
  },
  {
   "cell_type": "markdown",
   "source": [
    "<div class=\"alert alert-danger\">\n",
    "<b>Reviewer's comment:</b> Statement seems to have no effect.\n",
    "</div>"
   ],
   "metadata": {}
  },
  {
   "cell_type": "markdown",
   "source": [
    "<div class=\"alert alert-warning\">\n",
    "<b>Reviewer's comment: </b>\n",
    "<li>The expression or statement is pointless and will not affect the program's execution. It should be removed.\n",
    "It is recommended to remove the statement as it adds unnecessary complexity to the codebase.<a></a></li>\n",
    "</div>"
   ],
   "metadata": {}
  },
  {
   "cell_type": "markdown",
   "source": [
    "<div class=\"alert alert-warning\">\n",
    "<b>Reviewer's comment: </b>\n",
    "<li>Bad Example<a></a></li>\n",
    "</div>"
   ],
   "metadata": {}
  },
  {
   "cell_type": "code",
   "source": [
    "x = input()\n",
    "x == 3  # Line doesn't do anything, it can be safely removed\n",
    "\n",
    "calculate_res(x)"
   ],
   "metadata": {},
   "execution_count": null,
   "outputs": []
  },
  {
   "cell_type": "markdown",
   "source": [
    "<div class=\"alert alert-warning\">\n",
    "<b>Reviewer's comment: </b>\n",
    "<li>Good Example<a></a></li>\n",
    "</div>"
   ],
   "metadata": {}
  },
  {
   "cell_type": "code",
   "source": [
    "x = input()\n",
    "\n",
    "calculate_res(x)"
   ],
   "metadata": {},
   "execution_count": null,
   "outputs": []
  },
  {
   "cell_type": "markdown",
   "source": [
    "<div class=\"alert alert-info\"> <b></b> Statement seems to have no effect. As I recomended, try to use good example and you will be good to go :).</div>"
   ],
   "metadata": {}
  },
  {
   "cell_type": "markdown",
   "source": [
    "### Mistake №6. Useless super delegation in method 'get_week_stats'."
   ],
   "metadata": {}
  },
  {
   "cell_type": "code",
   "source": [
    "def get_week_stats(self):\n",
    "        super().get_week_stats()"
   ],
   "metadata": {},
   "execution_count": null,
   "outputs": []
  },
  {
   "cell_type": "markdown",
   "source": [
    "<div class=\"alert alert-danger\">\n",
    "<b>Reviewer's comment:</b>Useless super delegation in method 'get_week_stats'.\n",
    "</div>"
   ],
   "metadata": {}
  },
  {
   "cell_type": "markdown",
   "source": [
    "<div class=\"alert alert-warning\">\n",
    "<b>Reviewer's comment: </b>\n",
    "<li>Any method in a child class which is only calling the overridden method of any of its base class using super and doing nothing else is unnecessary. If the method isn't present in the child class, Python implicitly looks for the method in its base classes.\n",
    "This issue is valid only if the method in the child class and the method in the base class has the same signature.<a></a></li>\n",
    "</div>"
   ],
   "metadata": {}
  },
  {
   "cell_type": "markdown",
   "source": [
    "<div class=\"alert alert-warning\">\n",
    "<b>Reviewer's comment: </b>\n",
    "<li>Good Example<a></a></li>\n",
    "</div>"
   ],
   "metadata": {}
  },
  {
   "cell_type": "code",
   "source": [
    "class Egg:\n",
    "    def __init__(self, first, second):\n",
    "        pass\n",
    "\n",
    "\n",
    "class Spam(Egg):\n",
    "    # `__init__` method removed entirely\n",
    "\n",
    "    def __repr__(self):\n",
    "        return f'Spam({first}, {second})'\n",
    "\n",
    "\n",
    "class UselessSuper:\n",
    "    ..."
   ],
   "metadata": {},
   "execution_count": null,
   "outputs": []
  },
  {
   "cell_type": "markdown",
   "source": [
    "<div class=\"alert alert-warning\">\n",
    "<b>Reviewer's comment: </b>\n",
    "<li>Bad Example<a></a></li>\n",
    "</div>"
   ],
   "metadata": {}
  },
  {
   "cell_type": "code",
   "source": [
    "class Egg:\n",
    "    def __init__(self, first, second):\n",
    "        pass\n",
    "\n",
    "\n",
    "class Spam(Egg):\n",
    "    def __init__(self, first, second):\n",
    "        super().__init__(first, second)\n",
    "\n",
    "    def __repr__(self):\n",
    "        return f'Spam({first}, {second})'\n",
    "\n",
    "class UselessSuper:\n",
    "\n",
    "    def useless(self, first, *, second=None, **kwargs):\n",
    "        super().useless(first, second=second, **kwargs)"
   ],
   "metadata": {},
   "execution_count": null,
   "outputs": []
  },
  {
   "cell_type": "markdown",
   "source": [
    "<div class=\"alert alert-info\"> <b></b> Useless super delegation in method 'get_week_stats'. As I recomended, try to use good example and you will be good to go :).</div>"
   ],
   "metadata": {}
  },
  {
   "cell_type": "markdown",
   "source": [
    "<div class=\"alert alert-success\">\n",
    "<b>Reviewer's comment v2: </b> You are always welcome :)\n",
    "</div>"
   ],
   "metadata": {}
  },
  {
   "cell_type": "markdown",
   "source": [
    "### Mistake №7. Redefining name 'Record' from outer scope."
   ],
   "metadata": {}
  },
  {
   "cell_type": "code",
   "source": [
    " def get_today_stats(self):\n",
    "         today_stats = 0\n",
    "         for Record in self.records:\n",
    "             if Record.date == dt.datetime.now().date():\n",
    "                 today_stats = today_stats + Record.amount\n",
    "         return today_stats"
   ],
   "metadata": {},
   "execution_count": null,
   "outputs": []
  },
  {
   "cell_type": "markdown",
   "source": [
    "<div class=\"alert alert-danger\">\n",
    "<b>Reviewer's comment:</b> Redefining name 'Record' from outer scope.\n",
    "</div>"
   ],
   "metadata": {}
  },
  {
   "cell_type": "markdown",
   "source": [
    "<div class=\"alert alert-warning\">\n",
    "<b>Reviewer's comment: </b>\n",
    "<li>The local variable name hides the variable defined in the outer scope, making it inaccessible and might confuse.<a></a></li>\n",
    "</div>"
   ],
   "metadata": {}
  },
  {
   "cell_type": "markdown",
   "source": [
    "<div class=\"alert alert-warning\">\n",
    "<b>Reviewer's comment: </b>\n",
    "<li>Bad Practice<a></a></li>\n",
    "</div>"
   ],
   "metadata": {}
  },
  {
   "cell_type": "code",
   "source": [
    "filename = 'myfile.txt'\n",
    "\n",
    "def read_file(filename):  # This shadows the global `filename`\n",
    "    with open(filename) as file:\n",
    "        return file.readlines()"
   ],
   "metadata": {},
   "execution_count": null,
   "outputs": []
  },
  {
   "cell_type": "markdown",
   "source": [
    "<div class=\"alert alert-warning\">\n",
    "<b>Reviewer's comment: </b>\n",
    "<li>Good Example<a></a></li>\n",
    "</div>"
   ],
   "metadata": {}
  },
  {
   "cell_type": "code",
   "source": [
    "FILENAME = 'myfile.txt'  # renamed global to UPPER_CASE as convention\n",
    "\n",
    "def read_file(filename):\n",
    "    with open(filename) as file:\n",
    "        return file.readlines()"
   ],
   "metadata": {},
   "execution_count": null,
   "outputs": []
  },
  {
   "cell_type": "markdown",
   "source": [
    "<div class=\"alert alert-warning\">\n",
    "<b>Reviewer's comment: </b>\n",
    "<li>Bad Practice<a></a></li>\n",
    "<li>Another usual suspect of this is when you use the same parameter name inside a function as the global variable you are using. For example:<a></a></li>\n",
    "</div>"
   ],
   "metadata": {}
  },
  {
   "cell_type": "code",
   "source": [
    "def run_app(app):\n",
    "    # This `app` shadows the global app...\n",
    "    app.run()\n",
    "\n",
    "if __name__ == '__main__':\n",
    "    app = MyApp()  # This is a global variable!\n",
    "    run_app(app)"
   ],
   "metadata": {},
   "execution_count": null,
   "outputs": []
  },
  {
   "cell_type": "markdown",
   "source": [
    "<div class=\"alert alert-warning\">\n",
    "<b>Reviewer's comment: </b>\n",
    "<li>Preferred<a></a></li>\n",
    "<li>To avoid this re-defining of a global, consider not defining app as a global, but inside a main() function instead:<a></a></li>\n",
    "</div>"
   ],
   "metadata": {}
  },
  {
   "cell_type": "code",
   "source": [
    "def run_app(app):\n",
    "    # There is no longer a global `app` variable.\n",
    "    app.run()\n",
    "\n",
    "def main():\n",
    "    app = MyApp()\n",
    "    run_app(app)\n",
    "\n",
    "if __name__ == '__main__':\n",
    "    main()"
   ],
   "metadata": {},
   "execution_count": null,
   "outputs": []
  },
  {
   "cell_type": "markdown",
   "source": [
    "<div class=\"alert alert-info\"> <b></b>Redefining name 'Record' from outer scope. As I recomended, try to use good example. To avoid this re-defining of a global, consider not defining app as a global, but inside a main() function instead. And you will be good to go :).</div>"
   ],
   "metadata": {}
  },
  {
   "cell_type": "markdown",
   "source": [
    "<div class=\"alert alert-success\">\n",
    "<b>Reviewer's comment v2: </b> You are always welcome :)\n",
    "</div>"
   ],
   "metadata": {}
  },
  {
   "cell_type": "markdown",
   "source": [
    "### Conclusion\n",
    "Student did a great job, but during a code review I found some mistakes, like:\n",
    "\n",
    "<li>Mistake 1 — Extra parentheses in code can be removed for improved readability.</li>\n",
    "\n",
    "<li>Mistake 2 — Unnecessary \"elif\" after \"return\", remove the leading \"el\" from \"elif\".</li>\n",
    "\n",
    "<li>Mistake 3 — Formatting a regular string which could be a f-string.</li>\n",
    "\n",
    "<li>Mistake 4 — Either all return statements in a function should return an expression, or none of them should.</li>\n",
    "\n",
    "<li>Mistake 5 — Statement seems to have no effect.</li>\n",
    "\n",
    "<li>Mistake 6 — Useless super delegation in method 'get_week_stats'.</li>\n",
    "\n",
    "<li>Mistake 7 — Redefining name 'Record' from outer scope.</li>\n",
    "\n",
    "<li>Explained for student what he/she need to do to solve these problems. Reviewer gave a detailed explanation, with which student will understand every aspect. Furthermore, reviewer gave some links with which one could understand the subject well.</li>\n",
    "\n",
    "<li>Thank you for attention. :) </li>\n",
    "\n"
   ],
   "metadata": {}
  },
  {
   "cell_type": "markdown",
   "source": [
    "### General Conclusion\n",
    "Thanks for yandex to provide this kind of task with which I tried myself as a code reviewer, I hope that I will do more of these tasks.\n"
   ],
   "metadata": {}
  }
 ]
}